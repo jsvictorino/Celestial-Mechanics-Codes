{
  "nbformat": 4,
  "nbformat_minor": 0,
  "metadata": {
    "colab": {
      "provenance": []
    },
    "kernelspec": {
      "name": "python3",
      "display_name": "Python 3"
    },
    "language_info": {
      "name": "python"
    }
  },
  "cells": [
    {
      "cell_type": "markdown",
      "source": [
        "#Obtención Parámetros Orbitales sabiendo Posición y Velocidad\n",
        "\n",
        "Para encontrar los parámetros orbitales a partir del posición y velocidad se cálcula primero la magnitud de la posición y d ela velocidad.\n",
        "\n",
        "\\begin{equation*}\n",
        "    \\left | \\vec{r} \\right |=r=\\sqrt{r_x^2+r_y^2+r_z^2}\n",
        "\\end{equation*}\n",
        "\n",
        "\\begin{equation*}\n",
        "    \\left | \\dot{\\vec{r}} \\right |=v=\\sqrt{v_x^2+v_y^2+v_z^2}\n",
        "\\end{equation*}\n",
        "\n",
        " La ecuación diferencial asociada al problema de los dos cuerpos puede reducirse \" a un cuerpo\" escribiendo la ecuación diferencial para el vector relativo:\n",
        "\n",
        "\\begin{align*}\n",
        "    \\frac{d^2 \\vec{r}}{dt^2}&=-\\frac{G(m_1+m_2)}{r^3}\\vec{r}\\\\\n",
        "    \\vec{r}\\times \\ddot{\\vec{r}}&=-\\frac{\\mu}{r^3}\\vec{r} \\times \\vec{r}\\\\\n",
        "    &\\frac{d}{dt} \\left ( \\vec{r} \\times \\dot{\\vec{r}} \\right )=0\n",
        "\\end{align*}\n",
        "\n",
        "La cantidad al interior del paréntesis se define como momento angular por unidad de masa $\\vec{h}$ cuyas componentes, teniendo en cuenta la definición de producto cruz, son:\n",
        "\n",
        "\\begin{align*}\n",
        "    \\vec{h}&=\\vec{r} \\times \\frac{d \\vec{r}}{dt}\\\\h_1&= \\left ( y\\frac{dz}{dt} -z\\frac{dy}{dt}\\right) \\hat{i}\\\\h_2&= \\left ( z\\frac{dx}{dt} -x\\frac{dz}{dt}\\right) \\hat{j}\\\\h_3&= \\left ( x\\frac{dy}{dt} -y\\frac{dx}{dt}\\right) \\hat{k}\\\\\n",
        "\\end{align*}\n",
        "\n",
        "y su vector unitario\n",
        "\n",
        "\\begin{align*}\n",
        "    \\hat{h}=\\frac{h_1}{h}\\hat{i}+\\frac{h_2}{h}\\hat{j}+\\frac{h_3}{h}\\hat{k}\n",
        "\\end{align*}\n",
        "\n",
        "##Obtención del vector Excentricidad e\n",
        "\n",
        "Se hace el producto cruz del vector momento angular por unidad de masa con el vector aceleración.\n",
        "\n",
        "\\begin{align*}\n",
        "    \\vec{h}\\times\\ddot{\\vec{r}}&=(\\vec{r}\\times\\dot{\\vec{r}})\\times \\left (-\\frac{\\mu}{r^3}\\vec{r} \\right)\\\\ &=-\\frac{\\mu}{r^3} \\left [ \\dot{\\vec{r}} (\\vec{r}\\cdot \\vec{r})-\\vec{r}(\\dot{\\vec{r}}\\cdot \\vec{r}) \\right]\\\\\n",
        "    &=-\\frac{\\mu}{r^3}\\left [ r^2\\dot{\\vec{r}}-r\\dot{r}\\vec{r}\\right]=-\\mu \\left [ \\frac{\\dot{\\vec{r}}}{r}-\\frac{\\dot{r}\\vec{r}}{r^2}\\right]\\\\&=\\frac{d}{dt}\\left ( \\frac{-\\mu\\vec{r}}{r}\\right)\n",
        "\\end{align*}\n",
        "\n",
        "Considerando la derivada temporal de $\\vec{h}\\times \\dot{\\vec{r}}$ se tiene que\n",
        "\n",
        "\\begin{align*}\n",
        "    \\frac{d}{dt}\\left (\\vec{h}\\times \\dot{\\vec{r}} \\right)=\\dot{\\vec{h}}\\times \\dot{\\vec{r}} + \\vec{h}\\times\\ddot{\\vec{r}}=\\vec{h}\\times\\ddot{\\vec{r}}\n",
        "\\end{align*}\n",
        "\n",
        "al igualar ambas expresiones se obtiene\n",
        "\n",
        "\\begin{align*}\n",
        "    \\frac{d}{dt}\\left ( \\vec{h}\\times\\dot{\\vec{r}}+\\frac{-\\mu\\vec{r}}{r}\\right)=0\n",
        "\\end{align*}\n",
        "\n",
        "La derivada del vector al interior es 0 por tanto es un vector constante, adimensional, recibe el nombre de vector excentricidad o vector de Laplace Runge Lenz, se expresa como:\n",
        "\n",
        "\\begin{align*}\n",
        "    -\\mu\\vec{e}&=\\vec{h}\\times\\dot{\\vec{r}}+\\frac{-\\mu\\vec{r}}{r}\\\\\n",
        "    \\vec{e}&=-\\frac{\\vec{h}\\times\\dot{\\vec{r}}}{\\mu}-\\frac{\\vec{r}}{r}\n",
        "\\end{align*}\n",
        "\n",
        "cuyas commponentes son explicitamente:\n",
        "\n",
        "\\begin{align*}\n",
        "    e_1&=-\\frac{x}{r}-\\frac{1}{\\mu}\\left ( h_2\\dot{z}-h_3\\dot{y}\\right)\\\\\n",
        "    e_2&=-\\frac{y}{r}-\\frac{1}{\\mu}\\left ( h_3\\dot{x}-h_1\\dot{z}\\right)\\\\\n",
        "    e_3&=-\\frac{z}{r}-\\frac{1}{\\mu}\\left ( h_1\\dot{y}-h_2\\dot{x}\\right)\n",
        "\\end{align*}\n",
        "\n",
        "una forma alternativa que permite escribir la magnitud del vector excetrincidad conociendo ya el semieje mayor es\n",
        "\n",
        "\\begin{align*}\n",
        "    e=\\sqrt{1 \\mp \\frac{h^2}{\\mu a}}\n",
        "\\end{align*}\n",
        "\n",
        "signo negativo elíptica, signo positivo hiperbolica, semieje tendiendo al infinito parábola.\n",
        "\n",
        "##Encontrando el Semieje Mayor a\n",
        "\n",
        "La expresión\n",
        "\n",
        "\\begin{align*}\n",
        "    v=\\sqrt{\\mu \\left ( \\frac{2}{r} \\pm \\frac{1}{A} \\right)}\n",
        "\\end{align*}\n",
        "\n",
        "es general para toda trayectoria cónica. El signo negativo y $A=a$ indica una trayetcoria eliptica, el positivo y $A=a$ una hiperbólica. Cuando $A$ tiende al infinito se obtiene una parabólica. Al despejar a se obtiene\n",
        "\n",
        "\\begin{align*}\n",
        "    A=a&=\\frac{2}{r}-\\frac{v^2}{\\mu}\\\\\n",
        "    a&=\\frac{r}{2-D}\n",
        "\\end{align*}\n",
        "\n",
        "con $D=rv^2/\\mu$. Si $D< 2$ entonces eliptica, si $D> 2$ entonces hiperbólica. Si $D=2$, es decir, $2\\mu=rv^2$ es parabólica. En este último caso la distancia $q $ es $q=h^2/2\\mu$.\n",
        "\n",
        "## Encontrando $\\Omega$ e $i$\n",
        "\n",
        "El vector $\\hat{h}$ es ortogonal al plano de la órbita lo cual pemrite escribirlo en términos de los ángulos $\\Omega$ e $i$ como:\n",
        "\n",
        "\\begin{align*}\n",
        "    \\hat{h}=\\ sin \\Omega \\sin i \\hat{i}-\\cos \\Omega \\sin i \\hat{j}+\\cos i \\hat{k}\n",
        "\\end{align*}\n",
        "\n",
        "de donde, comparando con la expresión calculada para el $\\hat{h}$ ,se pueden calcular como\n",
        "\n",
        "\\begin{align*}\n",
        "    i=\\cos^{-1}\\left (\\frac{h_3}{h}\\right) & &\\Omega=tg^{-1}\\left ( \\frac{h_1}{-h_2} \\right)\n",
        "\\end{align*}\n",
        "\n",
        "## Encontrando $\\omega$\n",
        "\n",
        "El vector $\\hat{n}$ el cual esta a lo largo de la linea de los nodos, y el vector $\\hat{m}$ perpendicular  a $\\hat{n}$ en el plano orbital, como:\n",
        "\n",
        "\\begin{align*}\n",
        "    \\hat{n}&=\\cos \\Omega \\hat{i}+\\sin \\Omega \\hat{j}\\\\\n",
        "    \\hat{m}&=-\\sin \\Omega\\cos i \\hat{i}+\\cos \\Omega\\cos i \\hat{j}+\\sin i \\hat{k}\n",
        "\\end{align*}\n",
        "\n",
        "El vector excentricidad esta sobre la linea de las ápsides en el plano orbital, entonces\n",
        "\n",
        "\\begin{align*}\n",
        "    \\hat{n}\\cdot \\hat{e}&=\\cos \\omega\\\\\n",
        "    \\hat{n}\\cdot \\hat{m}&=\\sin \\omega\n",
        "\\end{align*}\n",
        "\n",
        "finalmente, al considerar las componentes de cada vector y realizar la tangente se obtiene que\n",
        "\n",
        "\\begin{align*}\n",
        "    \\tan \\omega=\\frac{-e_1\\sin \\Omega \\cos i+e_2\\cos \\Omega \\cos i+e_3\\sin i}{e_1 \\cos \\Omega + e_2 \\sin \\Omega}\n",
        "\\end{align*}\n",
        "\n",
        "entonces el argumento de latitud del perihelio se puede hallar como\n",
        "\n",
        "\\begin{align*}\n",
        "    \\omega=\\tan^{-1}\\left ( \\frac{-e_1\\sin \\Omega \\cos i+e_2\\cos \\Omega \\cos i+e_3\\sin i}{e_1 \\cos \\Omega + e_2 \\sin \\Omega} \\right)\n",
        "\\end{align*}\n",
        "\n",
        "## Encontrando la Anomalia Media de Referencia\n",
        "\n",
        "A partir de la ecuación $r=a(1-e\\cos E)$ es posible obtener la anomalia excéntrica como\n",
        "\n",
        "\\begin{align*}\n",
        "    E=\\cos^{-1}\\left [ \\frac{1}{e}\\left ( 1 -\\frac{r}{a}\\right ) \\right]\n",
        "\\end{align*}\n",
        "\n",
        "teniendo la anomalia excentrica es posible obtener la anomalia media de referencia en grados como\n",
        "\\begin{align*}\n",
        "    M_r=E\\left ( \\frac{180°}{\\pi} \\right)-e\\left ( \\frac{180°}{\\pi} \\right)\\sin E\n",
        "\\end{align*}\n",
        "\n",
        "Así, se han logrado encontrar los 6 parámetros orbitales conociendo la posición y velocidad de un objeto dado en un instante de tiempo."
      ],
      "metadata": {
        "id": "XByPV7rdmhWW"
      }
    },
    {
      "cell_type": "code",
      "execution_count": 1,
      "metadata": {
        "id": "_J-gTJQXmS2z"
      },
      "outputs": [],
      "source": [
        "import numpy as np\n",
        "\n",
        "#Coordenadas Ecuatoriales Heliocéntricas Rectangulares de un Asteroide\n",
        "\n",
        "r_prime= np.array([4.05649,-30.09905,-10.61409])  #3 de Febrero 2012\n",
        "velocidad_prime=np.array([0.003168275,0.000153842,-0.000907367])\n",
        "\n",
        "#Obtención de Coordenadas Heliocéntricas Eclípticas Rectangulares\n",
        "\n",
        "def heliocentricas_rectangulares_eclipticas(x_prime,y_prime,z_prime,oblicuidad):\n",
        "    x=x_prime\n",
        "    y=y_prime*np.cos(oblicuidad)+z_prime*np.sin(oblicuidad)\n",
        "    z=-y_prime*np.sin(oblicuidad)+z_prime*np.cos(oblicuidad)\n",
        "\n",
        "    return x,y,z\n",
        "\n",
        "epsilon= np.radians(23.439279)  # Oblicuidad de la eclíptica 23 26' 21.406'' (epsilon 2000)\n",
        "\n",
        "x,y,z=heliocentricas_rectangulares_eclipticas(r_prime[0],r_prime[1],r_prime[2],epsilon)\n",
        "vx,vy,vz=heliocentricas_rectangulares_eclipticas(velocidad_prime[0],velocidad_prime[1],velocidad_prime[2],epsilon)\n",
        "\n",
        "r=np.array([x,y,z])\n",
        "v=np.array([vx,vy,vz])\n",
        "\n",
        "#Vector Momento Angular\n",
        "\n",
        "h1=r[1]*v[2]-r[2]*v[1]\n",
        "h2=r[2]*v[0]-r[0]*v[2]\n",
        "h3=r[0]*v[1]-r[1]*v[0]\n",
        "\n",
        "h=np.array([h1,h2,h3])\n",
        "\n",
        "hunitario=h/np.linalg.norm(h)\n",
        "\n",
        "rnorm=np.linalg.norm(r)\n",
        "vnorm=np.linalg.norm(v)\n",
        "\n",
        "mu=np.power(0.01720209908,2)"
      ]
    },
    {
      "cell_type": "markdown",
      "source": [
        "#Excentricidad"
      ],
      "metadata": {
        "id": "WT8rHCr49rsn"
      }
    },
    {
      "cell_type": "code",
      "source": [
        "#Componentes del Vector Excentricidad e\n",
        "\n",
        "e1=-(r[0]/rnorm)-(1/mu)*(h[1]*v[2]-h[2]*v[1])\n",
        "e2=-(r[1]/rnorm)-(1/mu)*(h[2]*v[0]-h[0]*v[2])\n",
        "e3=-(r[2]/rnorm)-(1/mu)*(h[0]*v[1]-h[1]*v[0])\n",
        "\n",
        "#Construcción de vector e\n",
        "\n",
        "e=np.array([e1,e2,e3])\n",
        "\n",
        "#Magnitud vector e y valor de e\n",
        "\n",
        "enorm=np.sqrt(np.dot(e,e))\n",
        "\n",
        "print(enorm)\n"
      ],
      "metadata": {
        "colab": {
          "base_uri": "https://localhost:8080/"
        },
        "id": "Hc_Mclzp8xmq",
        "outputId": "987741cb-ca94-411d-bc28-367b86f1f462"
      },
      "execution_count": 2,
      "outputs": [
        {
          "output_type": "stream",
          "name": "stdout",
          "text": [
            "0.24695680863258862\n"
          ]
        }
      ]
    },
    {
      "cell_type": "markdown",
      "source": [
        "#Semieje Mayor"
      ],
      "metadata": {
        "id": "XlIjR13r-AV1"
      }
    },
    {
      "cell_type": "code",
      "source": [
        "#Semieje mayor a\n",
        "\n",
        "a=rnorm/(2-(rnorm*np.power(vnorm,2))/mu)\n",
        "\n",
        "print(a)"
      ],
      "metadata": {
        "colab": {
          "base_uri": "https://localhost:8080/"
        },
        "id": "OnobZ3ar-Ffv",
        "outputId": "708eb362-0751-451b-d203-e2d79855c63e"
      },
      "execution_count": 3,
      "outputs": [
        {
          "output_type": "stream",
          "name": "stdout",
          "text": [
            "39.40017882249163\n"
          ]
        }
      ]
    },
    {
      "cell_type": "markdown",
      "source": [
        "#Logitud del Nodo Ascendente e Inclinación"
      ],
      "metadata": {
        "id": "_q5h5tOe-O4c"
      }
    },
    {
      "cell_type": "code",
      "source": [
        "#Longitud del Ascendente e Inclinación\n",
        "\n",
        "\n",
        "i=np.arccos(hunitario[2])\n",
        "\n",
        "Omega =np.arctan(hunitario[0]/(-hunitario[1]))\n",
        "\n",
        "if  (hunitario[0]/(-hunitario[1]))<0 and (-hunitario[1])<0:\n",
        "    Omega=Omega+np.pi\n",
        "elif (hunitario[0]/(-hunitario[1]))<0 and (-hunitario[1])>0:\n",
        "    Omega=Omega+2*np.pi\n",
        "elif (hunitario[0]+(-hunitario[1]))<0:\n",
        "    Omega=Omega+np.pi\n",
        "\n",
        "print(np.degrees(i))\n",
        "print(np.degrees(Omega))\n"
      ],
      "metadata": {
        "colab": {
          "base_uri": "https://localhost:8080/"
        },
        "id": "V0TuriT--sIM",
        "outputId": "33080b0a-5db0-497c-87d8-a9080268f8b6"
      },
      "execution_count": 4,
      "outputs": [
        {
          "output_type": "stream",
          "name": "stdout",
          "text": [
            "17.15370702351152\n",
            "110.29656025318026\n"
          ]
        }
      ]
    },
    {
      "cell_type": "markdown",
      "source": [
        "#Argumento de Latitud del Perihelio"
      ],
      "metadata": {
        "id": "c4xfUMcw-3pt"
      }
    },
    {
      "cell_type": "code",
      "source": [
        "#Argumento de Latitud del Perihelio\n",
        "\n",
        "omega=np.arctan((-e[0]*np.sin(Omega)*np.cos(i)+e[1]*np.cos(Omega)*np.cos(i)+e[2]*np.sin(i))/(e[0]*np.cos(Omega)+e[1]*np.sin(Omega)))\n",
        "\n",
        "if  ((-e[0]*np.sin(Omega)*np.cos(i)+e[1]*np.cos(Omega)*np.cos(i)+e[2]*np.sin(i))/(e[0]*np.cos(Omega)+e[1]*np.sin(Omega)))<0 and (e[0]*np.cos(Omega)+e[1]*np.sin(Omega))<0:\n",
        "    omega=omega+np.pi\n",
        "elif ((-e[0]*np.sin(Omega)*np.cos(i)+e[1]*np.cos(Omega)*np.cos(i)+e[2]*np.sin(i))/(e[0]*np.cos(Omega)+e[1]*np.sin(Omega)))<0 and (e[0]*np.cos(Omega)+e[1]*np.sin(Omega))>0:\n",
        "    omega=omega+2*np.pi\n",
        "elif ((-e[0]*np.sin(Omega)*np.cos(i)+e[1]*np.cos(Omega)*np.cos(i)+e[2]*np.sin(i))+(e[0]*np.cos(Omega)+e[1]*np.sin(Omega)))<0:\n",
        "    omega=omega+np.pi\n",
        "\n",
        "print(np.degrees(omega))"
      ],
      "metadata": {
        "colab": {
          "base_uri": "https://localhost:8080/"
        },
        "id": "6EM0CKxZ--AZ",
        "outputId": "a9297c3b-a26c-4645-88df-406d2979bc83"
      },
      "execution_count": 5,
      "outputs": [
        {
          "output_type": "stream",
          "name": "stdout",
          "text": [
            "113.77139480527052\n"
          ]
        }
      ]
    },
    {
      "cell_type": "markdown",
      "source": [
        "#Anomalía Media de Referencia"
      ],
      "metadata": {
        "id": "nJisuTfeAFY_"
      }
    },
    {
      "cell_type": "code",
      "source": [
        "#Anomalia Media de Referencia\n",
        "\n",
        "#Obtención de la Anomalia Exéntrica\n",
        "\n",
        "E=np.arccos((1/enorm)*(1-(np.sqrt(np.dot(r,r))/a)))\n",
        "\n",
        "#Anomalia Media de Referencia\n",
        "\n",
        "M=E*(180/np.pi)-enorm*np.sin(E)*(180/np.pi)\n",
        "\n",
        "print(M)\n",
        "\n",
        "#Longitud Media\n",
        "\n",
        "L=M+np.degrees(omega+Omega)\n",
        "\n",
        "print(L)\n"
      ],
      "metadata": {
        "colab": {
          "base_uri": "https://localhost:8080/"
        },
        "id": "6S-doO_gAmC3",
        "outputId": "e61ae7ff-bca2-4b9f-9b00-89055b7ed29b"
      },
      "execution_count": 6,
      "outputs": [
        {
          "output_type": "stream",
          "name": "stdout",
          "text": [
            "32.554929550155165\n",
            "256.62288460860594\n"
          ]
        }
      ]
    },
    {
      "cell_type": "markdown",
      "source": [
        "# Parámetros Orbitales"
      ],
      "metadata": {
        "id": "w8TX2y1sGJc0"
      }
    },
    {
      "cell_type": "code",
      "source": [
        "print(\"Semiejemayor a= \",a)\n",
        "print(\"Excentricidad e= \",enorm)\n",
        "print(\"Inclinación i= \",np.degrees(i))\n",
        "print(\"Longitud del nodo ascendente Omega= \",np.degrees(Omega))\n",
        "print(\"Argumento de latitud del Perihelio omega= \",np.degrees(omega))\n",
        "print(\"Anomalía Media de Referencia M= \",M)"
      ],
      "metadata": {
        "colab": {
          "base_uri": "https://localhost:8080/"
        },
        "id": "Il2f_B1pGUtf",
        "outputId": "efdab96a-4e75-42d6-fda8-986081dfa683"
      },
      "execution_count": 9,
      "outputs": [
        {
          "output_type": "stream",
          "name": "stdout",
          "text": [
            "Semiejemayor a=  39.40017882249163\n",
            "Excentricidad e=  0.24695680863258862\n",
            "Inclinación i=  17.15370702351152\n",
            "Longitud del nodo ascendente Omega=  110.29656025318026\n",
            "Argumento de latitud del Perihelio omega=  113.77139480527052\n",
            "Anomalía Media de Referencia M=  32.554929550155165\n"
          ]
        }
      ]
    }
  ]
}