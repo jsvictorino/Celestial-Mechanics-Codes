{
  "nbformat": 4,
  "nbformat_minor": 0,
  "metadata": {
    "colab": {
      "provenance": []
    },
    "kernelspec": {
      "name": "python3",
      "display_name": "Python 3"
    },
    "language_info": {
      "name": "python"
    }
  },
  "cells": [
    {
      "cell_type": "markdown",
      "source": [
        "# Obtención de Parámetros Orbitales a Partir de Observación Astronómica y Sabiendo la Distancia Geocéntrica al Objeto\n",
        "\n",
        "Para lograrlo es necesario tener los datos sobre la posición del sol, en coordenadas geocéntricas ecuatoriales rectangulares, en el mismo instante en el que se realizan las observaciones del objeto desde la tierra. Estas obseraciones deben ser al menos 3 para poder encontrar todos los parámetros.\n",
        "\n",
        "Lo primero es tomar los datos de las observaciones y transformarlos de geocentricas ecuatoriales esféricas a rectangulares. Luego, teniendo en cuanta las coordenadas del sol es posible escribir las coordenadas heliocéntricas ecuatoriales rectangulares del objeto como:\n",
        "\n",
        "\\begin{align*}\n",
        "    x_i'&=\\xi_i'-\\xi'_{si}\\\\\n",
        "    y_i'&=\\eta_i'-\\eta'_{si}\\\\\n",
        "    z_i'&=\\zeta_i'-\\zeta'_{si}\n",
        "\\end{align*}\n",
        "\n",
        "Luego, se hace una rotación en torno a $x'$ para poder obtener las coordenadas eclipticas, $\\vec{r_i}=R_1(\\epsilon)\\vec{r_i}$.\n",
        "\n",
        "## Encontrando $i$ y $\\Omega$\n",
        "\n",
        "Al obtener las coordenadas heliocéntricas eclipticas rectangulares de cada observación es posible inciar la busqueda de los parámetros orbitales. Considerando\n",
        "\n",
        "\\begin{align*}\n",
        "    \\frac{\\vec{r_1}\\times \\vec{r_2}}{|\\vec{r_1}\\times \\vec{r_2}|}=\\hat{h}=A_1 \\hat{i}+A_2\\hat{j}+A_3 \\hat{k}\n",
        "\\end{align*}\n",
        "\n",
        "El vector unitario momento angular permanece constante por la conservación del momento angular y es ortogonal al plano de la órbita, lo cual permite , descomponerlo en sus coordenadas helicentricas, eclipticas considerando los ángulos.\n",
        "\n",
        "\\begin{align*}\n",
        "    \\hat{h}=\\ sin \\Omega \\sin i \\hat{i}-\\cos \\Omega \\sin i \\hat{j}+\\cos i \\hat{k}\n",
        "\\end{align*}\n",
        "\n",
        "comparando con la expresión hallada para el producto cruz se tiene inmediatamente que\n",
        "\n",
        "\\begin{align*}\n",
        "    i=\\cos^{-1}( A_3) & &\\Omega=tg^{-1}\\left ( \\frac{A_1}{-A_2} \\right)\n",
        "\\end{align*}\n",
        "\n",
        "Se ha encontrado así, la inclinación $i$ y la longitud del nodo ascendente $\\Omega$.\n",
        "\n",
        "## Encontrado e y $\\omega$\n",
        "\n",
        "Ahora, se definen 2 nuevos vectores: el vector unitario $\\hat{n}$ el cual se ubica en la linea de los nodos y es otro ortogonal sobre el plano de la órbita, nombrado el vector $\\hat{m}$.Sea $u=\\omega + \\theta$. De la ecuación para $r$ en una órbita elíptica:\n",
        "\n",
        "\\begin{align*}\n",
        "    a(1-e^2)&=r(1+e\\cos \\theta)\\\\\n",
        "    a(1-e^2)&=r_1(1+e\\cos (u_1-\\omega))\\\\\n",
        "    a(1-e^2)&=r_2(1+e\\cos (u_2-\\omega))\n",
        "\\end{align*}\n",
        "\n",
        "entonces\n",
        "\n",
        "\\begin{align*}\n",
        "    r_1(1+e\\cos (u_1-\\omega))=r_2(1+e\\cos (u_2-\\omega))\n",
        "\\end{align*}\n",
        "\n",
        "al despejar la diferencia de $r_1$ y $r_2$, utilizar la identidad del coseno para diferencia de ángulos y consider el producto escalar entre los vectores $r_i$ considerados y los vectores $\\hat{m}$ y $\\hat{n}$ se obtienen las ecuaciones:\n",
        "\n",
        "\\begin{align*}\n",
        "    r_2-r_1&=\\left [ (\\vec{r_1}-\\vec{r_2})\\cdot \\hat{n} \\right]e \\cos \\omega+\\left [ (\\vec{r_1}-\\vec{r_2})\\cdot \\hat{m} \\right]e \\sin \\omega\\\\\n",
        "    r_3-r_1&=\\left [ (\\vec{r_1}-\\vec{r_3})\\cdot \\hat{n} \\right]e \\cos \\omega+\\left [ (\\vec{r_1}-\\vec{r_3})\\cdot \\hat{m} \\right]e \\sin \\omega\n",
        "\\end{align*}\n",
        "\n",
        "La aparición de 2 incognitas requiere de una segunda ecuación para poder solucionar el sisitema, por tanto, es necesaria una tercera observación, como minímo, para poder hallar el valor de $e$ y $\\omega$.  Al despejar de ambas ecuaciones se obtiene:\n",
        "\n",
        "\\begin{align*}\n",
        "    e\\cos \\omega&=K\\\\\n",
        "    e\\sin \\omega&=H\n",
        "\\end{align*}\n",
        "\n",
        "De lo cual finalmente es posible obtener que:\n",
        "\n",
        "\\begin{align*}\n",
        "    e=\\sqrt{H^2+K^2}& &\\omega=\\arctan(H/K)\n",
        "\\end{align*}\n",
        "\n",
        "## Encontrando el Semieje mayor $a$\n",
        "\n",
        "Teniendo en cuenta los valores hallados de $H$ y $K$ es posible hallar el valor del semieje mayor como\n",
        "\n",
        "\\begin{align*}\n",
        "   a= \\frac{r_1+K(\\vec{r_1}\\cdot \\hat{n})+H(\\vec{r_1}\\cdot\\hat{m})}{1-(H^2+K^2)}\n",
        "\\end{align*}\n",
        "\n",
        "\n",
        "## Encontrando la Anomalia Media de Referencia\n",
        "\n",
        "A partir de la ecuación $r_1=a(1-e\\cos E_1)$ es posible obtener la anomalia excéntrica como\n",
        "\n",
        "\\begin{align*}\n",
        "    E_1=\\cos^{-1}\\left [ \\frac{1}{e}\\left ( 1 -\\frac{r_1}{a}\\right ) \\right]\n",
        "\\end{align*}\n",
        "\n",
        "teniendo la anomalia excentrica es posible obtener la anomalia media de referencia en grados como\n",
        "\\begin{align*}\n",
        "    M_1=E_1\\left ( \\frac{180°}{\\pi} \\right)-e\\left ( \\frac{180°}{\\pi} \\right)\\sin E_1\n",
        "\\end{align*}\n",
        "\n",
        "Así, se han logrado encontrar los 6 parámetros orbitales de un objeto, conociendo la distancia geocéntrica y a partir de 3 observaciones.\n",
        "\n",
        "\n"
      ],
      "metadata": {
        "id": "XO6UfeJKgTxT"
      }
    },
    {
      "cell_type": "markdown",
      "source": [
        "# Código Preliminares (se dan los datos de la observación y se ajustan)"
      ],
      "metadata": {
        "id": "c9Bwl1JZQukA"
      }
    },
    {
      "cell_type": "code",
      "execution_count": null,
      "metadata": {
        "id": "W36PsfYleR8T"
      },
      "outputs": [],
      "source": [
        "import numpy as np\n",
        "\n",
        "#Conversión de ascensión recta y declinación a radianes para trabajar con mayor facilidad los cálculos\n",
        "\n",
        "def ascension_radianes(horas,minutos,segundos):\n",
        "    asc=np.radians((horas*15)+(15*minutos/60)+(15*segundos/3600))\n",
        "    return asc\n",
        "\n",
        "def declinacion_radianes(grados,minutos,segundos):\n",
        "    if grados>0:\n",
        "        dec=np.deg2rad(grados+(minutos/60)+(segundos/3600))\n",
        "    elif grados<0:\n",
        "        dec=np.deg2rad(grados-(minutos/60)-(segundos/3600))\n",
        "    return dec\n",
        "\n",
        "asc1=ascension_radianes(19,40,26.61)\n",
        "dec1=declinacion_radianes(-26,40,9.03)\n",
        "\n",
        "asc2=ascension_radianes(17,17,18.94)\n",
        "dec2=declinacion_radianes(-44,36,46.53)\n",
        "\n",
        "asc3=ascension_radianes(13,13,11.16)\n",
        "dec3=declinacion_radianes(-41,34,38.95)\n",
        "\n",
        "# Coordenadas del cometa Halley en 3 Momentos\n",
        "\n",
        "H1=np.array([0.7746496463,asc1,dec1]) #21 de Marzo 1986 a las 0 h TUC\n",
        "H2=np.array([0.4500202942,asc2,dec2]) #5 de Abril 1986 a las 0 h TUC\n",
        "H3=np.array([0.4364706899,asc3,dec3]) #15 de Abril 1986 a las 0 h TUC\n",
        "\n",
        "#Coordenadas geocéntricas ecuatoriales del Sol en cada uno de los 3 instantes\n",
        "\n",
        "S1_prime=np.array([0.996045,0.0044782,0.0019476])\n",
        "S2_prime=np.array([0.9657763,0.2392994,0.1037576])\n",
        "S3_prime=np.array([0.9097036,0.3880524,0.1682609])\n"
      ]
    },
    {
      "cell_type": "markdown",
      "source": [
        "#Obtención de las Coordenadas Heliocéntricas Eclipticas del Objeto"
      ],
      "metadata": {
        "id": "u_IULK5kPpxh"
      }
    },
    {
      "cell_type": "code",
      "source": [
        "#Conversión de esféricas geocéntricas ecuatoriales a rectangulares\n",
        "\n",
        "def esfericas_a_rectangulares(rho,alfa,delta):\n",
        "\n",
        "    xi_prime=rho*np.cos(alfa)*np.cos(delta)\n",
        "    eta_prime=rho*np.sin(alfa)*np.cos(delta)\n",
        "    zeta_prime=rho*np.sin(delta)\n",
        "\n",
        "    return xi_prime,eta_prime,zeta_prime\n",
        "\n",
        "\n",
        "xi_prime_1,eta_prime_1,zeta_prime_1=esfericas_a_rectangulares(H1[0],H1[1],H1[2])\n",
        "\n",
        "xi_prime_2,eta_prime_2,zeta_prime_2=esfericas_a_rectangulares(H2[0],H2[1],H2[2])\n",
        "\n",
        "xi_prime_3,eta_prime_3,zeta_prime_3=esfericas_a_rectangulares(H3[0],H3[1],H3[2])\n",
        "\n",
        "print(xi_prime_1,eta_prime_1,zeta_prime_1)\n",
        "print(xi_prime_2,eta_prime_2,zeta_prime_2)\n",
        "print(xi_prime_3,eta_prime_3,zeta_prime_3)\n",
        "\n",
        "\n",
        "#Obtención de las coordenadas heliocéntricas rectangulares ecuatoriales del objeto en cada instante de tiempo\n",
        "\n",
        "def heliocentricas_rectangulares_eclipticas(xi_prime,eta_prime,zeta_prime,xi_prime_sol,eta_prime_sol,zeta_prime_sol,oblicuidad):\n",
        "\n",
        "    #Coversión a heliocéntricas ecuatoriales  rectangulares\n",
        "\n",
        "    x_prime=(xi_prime)-(xi_prime_sol)\n",
        "    y_prime=(eta_prime)-(eta_prime_sol)\n",
        "    z_prime=(zeta_prime)-(zeta_prime_sol)\n",
        "\n",
        "    print(f\"x_prime: {x_prime},y_prime: {y_prime}, z_prime: {z_prime}, oblicuidad: {oblicuidad}\")\n",
        "\n",
        "    #Conversión a heliocéntricas eclipticas rectangulares\n",
        "\n",
        "    x=x_prime\n",
        "    y=y_prime*np.cos(oblicuidad)+z_prime*np.sin(oblicuidad)\n",
        "    z=-y_prime*np.sin(oblicuidad)+z_prime*np.cos(oblicuidad)\n",
        "\n",
        "    return x,y,z\n",
        "\n",
        "epsilon= np.radians(23.439279)  # Oblicuidad de la eclíptica 23 26' 21.406'' (epsilon 2000)\n",
        "\n",
        "x1,y1,z1=heliocentricas_rectangulares_eclipticas(xi_prime_1,eta_prime_1,zeta_prime_1,S1_prime[0],S1_prime[1],S1_prime[2],epsilon)\n",
        "\n",
        "x2,y2,z2=heliocentricas_rectangulares_eclipticas(xi_prime_2,eta_prime_2,zeta_prime_2,S2_prime[0],S2_prime[1],S2_prime[2],epsilon)\n",
        "\n",
        "x3,y3,z3=heliocentricas_rectangulares_eclipticas(xi_prime_3,eta_prime_3,zeta_prime_3,S3_prime[0],S3_prime[1],S3_prime[2],epsilon)\n",
        "\n",
        "#Definición de vectores heliocentricos en cada instante de tiempo\n",
        "\n",
        "r1=np.array([x1,y1,z1])\n",
        "r2=np.array([x2,y2,z2])\n",
        "r3=np.array([x3,y3,z3])\n",
        "\n",
        "print(r1)\n",
        "print(r2)\n",
        "print(r3)\n"
      ],
      "metadata": {
        "id": "iwiW-VVxCYtx",
        "colab": {
          "base_uri": "https://localhost:8080/"
        },
        "outputId": "6fbc2c65-dd9d-4f94-b823-073742dc3c74"
      },
      "execution_count": null,
      "outputs": [
        {
          "output_type": "stream",
          "name": "stdout",
          "text": [
            "0.2937655078230106 -0.6268124710210198 -0.34769243175359316\n",
            "-0.059320329998240696 -0.3148147848893707 -0.3160553983968849\n",
            "-0.3099991791305866 -0.10250141879592287 -0.28965605677245426\n",
            "x_prime: -0.7022794921769894,y_prime: -0.6312906710210198, z_prime: -0.34964003175359315, oblicuidad: 0.409092592843564\n",
            "x_prime: -1.0250966299982407,y_prime: -0.5541141848893707, z_prime: -0.4198129983968849, oblicuidad: 0.409092592843564\n",
            "x_prime: -1.2197027791305866,y_prime: -0.49055381879592286, z_prime: -0.45791695677245425, oblicuidad: 0.409092592843564\n",
            "[-0.70227949 -0.71827667 -0.0696756 ]\n",
            "[-1.02509663 -0.67538181 -0.16475707]\n",
            "[-1.21970278 -0.63222319 -0.22499962]\n"
          ]
        }
      ]
    },
    {
      "cell_type": "markdown",
      "source": [
        "#Obtención de $\\Omega$ e $i$"
      ],
      "metadata": {
        "id": "CUCdzwbwMoZO"
      }
    },
    {
      "cell_type": "code",
      "source": [
        "#Vector h momento angular por unidad de masa\n",
        "\n",
        "h=np.cross(r1,r2)\n",
        "\n",
        "#h unitario\n",
        "\n",
        "hunit=h/(np.sqrt(np.dot(h,h)))\n",
        "\n",
        "#Obtención de i y Omega a partir de h unitario\n",
        "\n",
        "i=np.arccos(hunit[2])\n",
        "\n",
        "Omega =np.arctan(hunit[0]/(-hunit[1]))\n",
        "\n",
        "if  (hunit[0]/(-hunit[1]))<0 and (-hunit[1])<0:\n",
        "    Omega=Omega+np.pi\n",
        "elif (hunit[0]/(-hunit[1]))<0 and (-hunit[1])>0:\n",
        "    Omega=Omega+2*np.pi\n",
        "elif (hunit[0]+(-hunit[1]))<0:\n",
        "    Omega=Omega+np.pi\n",
        "\n",
        "print(np.degrees(i))\n",
        "print(np.degrees(Omega))\n"
      ],
      "metadata": {
        "id": "iIOppY2_Mxo0",
        "colab": {
          "base_uri": "https://localhost:8080/"
        },
        "outputId": "06178fcd-3554-461d-ef7f-5b3ea085b7d4"
      },
      "execution_count": null,
      "outputs": [
        {
          "output_type": "stream",
          "name": "stdout",
          "text": [
            "162.23968210728745\n",
            "58.151471813539196\n"
          ]
        }
      ]
    },
    {
      "cell_type": "markdown",
      "source": [
        "#Obtención de $e$ y $\\omega$"
      ],
      "metadata": {
        "id": "QogRWeyaPe32"
      }
    },
    {
      "cell_type": "code",
      "source": [
        "#Definicion de los vectores unitarios m y n\n",
        "\n",
        "n=np.array([np.cos(Omega),np.sin(Omega),0])\n",
        "m=np.array([-np.sin(Omega)*np.cos(i),np.cos(Omega)*np.cos(i),np.sin(i)])\n",
        "\n",
        "#Planteamiento del sistema lineal\n",
        "\n",
        "A=np.matrix([[np.dot(r1-r2,n),np.dot(r1-r2,m)],[np.dot(r1-r3,n),np.dot(r1-r3,m)]])\n",
        "B=np.matrix([[np.sqrt(np.dot(r2,r2))-np.sqrt(np.dot(r1,r1))],[np.sqrt(np.dot(r3,r3))-np.sqrt(np.dot(r1,r1))]])\n",
        "\n",
        "#Solucion del sistema lineal\n",
        "\n",
        "sol=np.linalg.solve(A,B)\n",
        "\n",
        "K=sol[0]\n",
        "H=sol[1]\n",
        "\n",
        "#Valor de la Excentricidad\n",
        "e=np.sqrt(np.power(H,2)+np.power(K,2))\n",
        "\n",
        "#Valor del Argumento de Latitud del Perihelio\n",
        "\n",
        "omega=np.arctan(H/K)\n",
        "\n",
        "if (H/K)<0 and K<0:\n",
        "    omega=omega+np.pi\n",
        "elif (H/K)<0 and K>0:\n",
        "    omega=omega+2*np.pi\n",
        "elif (H+K)<0:\n",
        "    omega=omega+np.pi\n",
        "\n",
        "print(e)\n",
        "print(np.degrees(omega))\n"
      ],
      "metadata": {
        "id": "4oyXsQXgRgty",
        "colab": {
          "base_uri": "https://localhost:8080/"
        },
        "outputId": "d7c72b8c-933b-4823-d521-7b01c97f9313"
      },
      "execution_count": null,
      "outputs": [
        {
          "output_type": "stream",
          "name": "stdout",
          "text": [
            "[[0.9672769]]\n",
            "[[111.85268285]]\n"
          ]
        }
      ]
    },
    {
      "cell_type": "markdown",
      "source": [
        "# Obtención del Semieje mayor $a$"
      ],
      "metadata": {
        "id": "atGwNZOkmp4c"
      }
    },
    {
      "cell_type": "code",
      "source": [
        "#Semieje mayor de la órbita\n",
        "'''\n",
        "a=np.power(P,2)/(np.power(K,2)*(1-np.power(e,2)))\n",
        "\n",
        "'''\n",
        "a=(np.sqrt(np.dot(r1,r1))+K*np.dot(r1,n)+H*np.dot(r1,m))/(1-(np.power(H,2)+np.power(K,2)))\n",
        "\n",
        "print(a)\n"
      ],
      "metadata": {
        "id": "-4sxOnWAmwgf",
        "colab": {
          "base_uri": "https://localhost:8080/"
        },
        "outputId": "f6f0266f-0837-4577-b06d-a2ef990b50ac"
      },
      "execution_count": null,
      "outputs": [
        {
          "output_type": "stream",
          "name": "stdout",
          "text": [
            "[[17.94151366]]\n"
          ]
        }
      ]
    },
    {
      "cell_type": "markdown",
      "source": [
        "#Obtención de la anomalia Media de Referencia $M_r$"
      ],
      "metadata": {
        "id": "aTZQdAgUnjmK"
      }
    },
    {
      "cell_type": "code",
      "source": [
        "#Obtención de la Anomalia Exéntrica\n",
        "\n",
        "E1=np.arccos((1/e)*(1-(np.sqrt(np.dot(r1,r1))/a)))\n",
        "\n",
        "#Anomalia Media de Referencia\n",
        "\n",
        "M1=E1*(180/np.pi)-e*np.sin(E1)*(180/np.pi)"
      ],
      "metadata": {
        "id": "g4Ok-rr7nvmg"
      },
      "execution_count": null,
      "outputs": []
    },
    {
      "cell_type": "markdown",
      "source": [
        "#Parámetros Orbitales"
      ],
      "metadata": {
        "id": "FryeeFtCpgoN"
      }
    },
    {
      "cell_type": "code",
      "source": [
        "print(\"Semiejemayor a= \",a)\n",
        "print(\"Excentricidad e= \",e)\n",
        "print(\"Inclinación i= \",np.degrees(i))\n",
        "print(\"Longitud del nodo ascendente Omega= \",np.degrees(Omega))\n",
        "print(\"Argumento de latitud del Perihelio omega= \",np.degrees(omega))\n",
        "print(\"Anomalía Media de Referencia M1= \",M1)"
      ],
      "metadata": {
        "colab": {
          "base_uri": "https://localhost:8080/"
        },
        "id": "CF03bxNnpgF0",
        "outputId": "398b7cc8-668b-4814-813e-6400e8fcbba9"
      },
      "execution_count": null,
      "outputs": [
        {
          "output_type": "stream",
          "name": "stdout",
          "text": [
            "Semiejemayor a=  [[17.94151366]]\n",
            "Excentricidad e=  [[0.9672769]]\n",
            "Inclinación i=  162.23968210728745\n",
            "Longitud del nodo ascendente Omega=  58.151471813539196\n",
            "Argumento de latitud del Perihelio omega=  [[111.85268285]]\n",
            "Anomalía Media de Referencia M1=  [[0.51192749]]\n"
          ]
        }
      ]
    }
  ]
}