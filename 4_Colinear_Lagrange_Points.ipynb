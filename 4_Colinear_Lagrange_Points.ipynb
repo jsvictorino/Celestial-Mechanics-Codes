{
  "nbformat": 4,
  "nbformat_minor": 0,
  "metadata": {
    "colab": {
      "provenance": []
    },
    "kernelspec": {
      "name": "python3",
      "display_name": "Python 3"
    },
    "language_info": {
      "name": "python"
    }
  },
  "cells": [
    {
      "cell_type": "markdown",
      "source": [
        "# Puntos de Lagrange\n",
        "\n",
        "En el problema de los 3 cuerpos circular y restringido existe una única constante de movimiento, la constante de Jacobi, la cual dada la condición inicial de $\\dot{x_o}=0$ y $\\dot{y_o}=0$ en un tiempo incial para una masa $m_3$, respecto a los ejes rotantes, y dada una posición inicial $x_0, y_0$ asume un valor determinado y la cual permite conocer las posibles trayectorias que puede seguir una masa sometida a estas interacciones.\n",
        "\n",
        "\\begin{align*}\n",
        "    C=\\frac{1}{2}(\\dot{x_0}^{2}+\\dot{y_0}^{2}+\\dot{z_0}^{2})-\\frac{n^2}{2}(x_0^2+y_0^2)-\\frac{Gm_1}{\\rho_{10}}-\\frac{Gm_2}{\\rho_{20}}\n",
        "\\end{align*}\n",
        "\n",
        "Para facilitar el cálculo se realiza un cambio de unidades de tal forma que $m_1+m_2=1$ y $a=1$, con lo cual $m_1=1-m_2$. Se tiene que la posición desde el centro de masa de cada masa sobre el eje rotante puede escribirse como\n",
        "\n",
        "\\begin{align*}\n",
        "    x_1=\\frac{-m_2a}{m_1+m_2}& &x_2=\\frac{m_1a}{m_1+m_2}\n",
        "\\end{align*}\n",
        "\n",
        "En unidades unitares se obtiene por tanto $x_1=-m_2$ y $x_2=m_1=1-m_2$. Otra implicación importante de las unidades unitarias es que de la tercera ley de Kepler se deduce que $G=n^2$ se ajusta una unidad de tiempo conveniente en días solares de modo que $G=n^2=1$.\n",
        "\n",
        "La constante de Jacobi, escrita para unas condiciones inciales dadas y en unidades unitarias toma la forma\n",
        "\n",
        "\\begin{align*}\n",
        "    C=\\frac{1}{2}(\\dot{x_0}^{2}+\\dot{y_0}^{2}+\\dot{z_0}^{2})-\\frac{1}{2}(x_0^2+y_0^2)-\\frac{1-m_2}{\\sqrt{(x_0+m_2)^2+y_0^2+z_0^2}}-\\frac{m_2}{\\sqrt{(x_0-1+m_2)^2+y_0^2+z_0^2}}\n",
        "\\end{align*}\n",
        "\n",
        "Con la condición inicial de velocidad incial cero respecto a los ejes rotantes, y considerando una nueva condición de movimiento en el plano orbital de la masa $m_1$ y la masa $m_2$ es decri $\\dot{z_0}=z_0=0$,  la constante de Jacobi toma la forma.\n",
        "\n",
        "\\begin{align*}\n",
        "    C=-\\frac{1}{2}(x_0^2+y_0^2)-\\frac{1-m_2}{\\sqrt{(x_0+m_2)^2+y_0^2}}-\\frac{m_2}{\\sqrt{(x_0-1+m_2)^2+y_0^2}}=-\\left [\\frac{1}{2}(x^2+y^2)+\\frac{m_1}{\\rho_1}+\\frac{m_2}{\\rho_2} \\right]\n",
        "\\end{align*}\n",
        "\n",
        "Todos los valores $x,y$ que satisfacen la ecuación anterior una vez determinada c son las posiciones permitidas\n"
      ],
      "metadata": {
        "id": "z5jxRRPdrjOQ"
      }
    },
    {
      "cell_type": "code",
      "execution_count": 1,
      "metadata": {
        "colab": {
          "base_uri": "https://localhost:8080/"
        },
        "id": "3yPlJKscmnME",
        "outputId": "700f339e-5157-42a1-f419-4894f3169655"
      },
      "outputs": [
        {
          "output_type": "stream",
          "name": "stdout",
          "text": [
            "Punto L1 = [0.36074343]\n",
            "Punto L2 = [1.2658581]\n",
            "Punto L3 = [-1.10316685]\n"
          ]
        }
      ],
      "source": [
        "import numpy as np\n",
        "from scipy.optimize import fsolve\n",
        "\n",
        "m2=0.25\n",
        "m1=1-m2\n",
        "\n",
        "# Definir la ecuación\n",
        "def equation(x):\n",
        "    term1 = -(x)\n",
        "    term2 = ((1 - m2) * (x + m2)) / np.abs(x + m2)**3\n",
        "    term3 = (m2 * (x - (1 - m2))) / np.abs(x - (1 - m2))**3\n",
        "    return term1 + term2 + term3\n",
        "\n",
        "# Usar fsolve para encontrar las raíces de la ecuación\n",
        "\n",
        "#Coordenada x del punto L1\n",
        "\n",
        "initial_guess = 0.0\n",
        "L1= fsolve(equation, initial_guess)\n",
        "\n",
        "print(\"Punto L1 =\", L1)\n",
        "\n",
        "#Coordenada x del punto L2\n",
        "\n",
        "initial_guess = 1.0\n",
        "L2 = fsolve(equation, initial_guess)\n",
        "\n",
        "print(\"Punto L2 =\", L2)\n",
        "\n",
        "#Coordenada x del punto L3\n",
        "\n",
        "initial_guess = -0.3\n",
        "L3 = fsolve(equation, initial_guess)\n",
        "\n",
        "print(\"Punto L3 =\",L3)\n",
        "\n"
      ]
    },
    {
      "cell_type": "code",
      "source": [
        "\n",
        "a=0.465*149597870.7*1000\n",
        "\n",
        "G=6.673e-11\n",
        "\n",
        "mk1=0.80*1.998e30\n",
        "\n",
        "mk2=0.13*1.998e30\n",
        "\n",
        "#Periodo Orbital en Segundos\n",
        "\n",
        "T=np.sqrt((4*np.power(np.pi,2)*np.power(a,3))/(G*(mk1+mk2)))\n",
        "\n",
        "#Periodo Orbital en Días Solares\n",
        "\n",
        "Td=T/(86400)\n",
        "\n",
        "#Unidad de Tiempo\n",
        "\n",
        "U=Td/(2*np.pi)\n",
        "\n",
        "print(\"Periodo Orbital en Segundos =\",T)\n",
        "print(\"Periodo Orbital en Días Solares =\",Td)\n",
        "print(\"Unidad de Tiempo en días solares medios =\",U)\n"
      ],
      "metadata": {
        "colab": {
          "base_uri": "https://localhost:8080/"
        },
        "id": "V0u5pYUnC05r",
        "outputId": "c928e267-a6a5-4778-adf2-d7fd43157a0d"
      },
      "execution_count": 2,
      "outputs": [
        {
          "output_type": "stream",
          "name": "stdout",
          "text": [
            "Periodo Orbital en Segundos = 10352557.161077308\n",
            "Periodo Orbital en Días Solares = 119.82126343839477\n",
            "Unidad de Tiempo en días solares medios = 19.07014636373672\n"
          ]
        }
      ]
    }
  ]
}